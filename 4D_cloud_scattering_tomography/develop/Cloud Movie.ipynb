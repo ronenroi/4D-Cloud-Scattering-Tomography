{
 "cells": [
  {
   "cell_type": "code",
   "execution_count": 1,
   "metadata": {
    "collapsed": true,
    "pycharm": {
     "is_executing": false
    }
   },
   "outputs": [],
   "source": [
    "import numpy as np\n",
    "from scipy import io     \n",
    "import mayavi.mlab as mlab"
   ]
  },
  {
   "cell_type": "code",
   "execution_count": 2,
   "outputs": [],
   "source": [
    "data = io.loadmat('experiments/WIZ_highres_wl_[0.66]_vel_[0.,0.,0.]_img_9_projection_perspective/dynamic_medium_monochromatic/logs/log_name-18-Oct-2020-17:56:32/FINAL_3D_extinction.mat') \n",
    "extinction = data['estimated_extinction']\n",
    "x = data['x'][:,0]\n",
    "y = data['y'][:,0]\n",
    "z = data['z'][:,0]"
   ],
   "metadata": {
    "collapsed": false,
    "pycharm": {
     "name": "#%%\n",
     "is_executing": false
    }
   }
  },
  {
   "cell_type": "code",
   "execution_count": 3,
   "outputs": [],
   "source": [
    "# grid = extinction[0]\n",
    "# xgrid = np.linspace(x.min(), x.m(),nx)\n",
    "# ygrid = np.linspace(y_min, y_max,ny)\n",
    "# zgrid = np.linspace(z_min, z_max,nz)        \n",
    "X, Y, Z = np.meshgrid(x, y, z, indexing='ij')\n",
    "figh = mlab.gcf()\n",
    "show_field = extinction[:,:,:,0]\n",
    "src = mlab.pipeline.scalar_field(X, Y, Z, show_field)\n",
    "src.spacing = [x[1]-x[0], y[1]-y[0], z[1]-z[0]]\n",
    "src.update_image_data = True\n",
    "\n",
    "isosurface = mlab.pipeline.iso_surface(src, contours=[0.1*show_field.max(),\\\n",
    "                                                      0.2*show_field.max(),\\\n",
    "                                                      0.3*show_field.max(),\\\n",
    "                                                      0.4*show_field.max(),\\\n",
    "                                                      0.5*show_field.max(),\\\n",
    "                                                      0.6*show_field.max(),\\\n",
    "                                                      0.7*show_field.max(),\\\n",
    "                                                      0.8*show_field.max(),\\\n",
    "                                                      0.9*show_field.max(),\\\n",
    "                                                      ],opacity=0.9)\n",
    "\n",
    "mlab.outline(figure=figh,color = (1, 1, 1))  # box around data axes\n",
    "mlab.orientation_axes(figure=figh)\n",
    "mlab.axes(figure=figh, xlabel=\"x (km)\", ylabel=\"y (km)\", zlabel=\"z (km)\")\n",
    "color_bar = mlab.colorbar(title='extinction', orientation='vertical', nb_labels=5)    "
   ],
   "metadata": {
    "collapsed": false,
    "pycharm": {
     "name": "#%%\n",
     "is_executing": false
    }
   }
  },
  {
   "cell_type": "code",
   "execution_count": null,
   "outputs": [],
   "source": [],
   "metadata": {
    "collapsed": false,
    "pycharm": {
     "name": "#%%\n"
    }
   }
  },
  {
   "cell_type": "code",
   "execution_count": null,
   "outputs": [],
   "source": [],
   "metadata": {
    "collapsed": false,
    "pycharm": {
     "name": "#%%\n"
    }
   }
  },
  {
   "cell_type": "code",
   "execution_count": null,
   "outputs": [],
   "source": [],
   "metadata": {
    "collapsed": false,
    "pycharm": {
     "name": "#%%\n"
    }
   }
  },
  {
   "cell_type": "code",
   "execution_count": null,
   "outputs": [],
   "source": [],
   "metadata": {
    "collapsed": false,
    "pycharm": {
     "name": "#%%\n"
    }
   }
  }
 ],
 "metadata": {
  "kernelspec": {
   "display_name": "Python 3",
   "language": "python",
   "name": "python3"
  },
  "language_info": {
   "codemirror_mode": {
    "name": "ipython",
    "version": 2
   },
   "file_extension": ".py",
   "mimetype": "text/x-python",
   "name": "python",
   "nbconvert_exporter": "python",
   "pygments_lexer": "ipython2",
   "version": "2.7.6"
  },
  "pycharm": {
   "stem_cell": {
    "cell_type": "raw",
    "source": [],
    "metadata": {
     "collapsed": false
    }
   }
  }
 },
 "nbformat": 4,
 "nbformat_minor": 0
}