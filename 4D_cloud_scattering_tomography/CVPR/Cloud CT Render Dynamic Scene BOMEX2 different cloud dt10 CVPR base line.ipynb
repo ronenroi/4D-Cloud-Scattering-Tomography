{
 "cells": [
  {
   "cell_type": "code",
   "execution_count": 1,
   "outputs": [],
   "source": [
    "\"\"\"\n",
    "Imports necessary for this notebook\n",
    "\"\"\"\n",
    "import matplotlib.pyplot as plt\n",
    "import numpy as np\n",
    "import pandas as pd\n",
    "import glob\n",
    "import shdom\n",
    "\n"
   ],
   "metadata": {
    "collapsed": false,
    "pycharm": {
     "name": "#%%\n",
     "is_executing": false
    }
   }
  },
  {
   "cell_type": "code",
   "execution_count": 2,
   "outputs": [],
   "source": [
    "def calccenterofmass(droplets):\n",
    "    lwc = droplets.lwc.data\n",
    "    mx = np.sum(np.sum(lwc,2),1)\n",
    "    my = np.sum(np.sum(lwc,2),0)\n",
    "    mz = np.sum(np.sum(lwc,0),0)\n",
    "    com_x = sum(mx * droplets.grid.x)/sum(mx)\n",
    "    com_y = sum(my * droplets.grid.y)/sum(my)\n",
    "    com_z = sum(mz * droplets.grid.z)/sum(mz)\n",
    "    return com_x, com_y, com_z\n",
    "\n",
    "def projection_split(projections, n_parts):\n",
    "    \n",
    "    avg = len(projections.projection_list) / float(n_parts)\n",
    "    out = []\n",
    "    last = 0.0\n",
    "\n",
    "    while last < len(projections.projection_list):\n",
    "        out.append(shdom.MultiViewProjection(projections.projection_list[int(last):int(last + avg)]))\n",
    "        last += avg\n",
    "\n",
    "    return out"
   ],
   "metadata": {
    "collapsed": false,
    "pycharm": {
     "name": "#%%\n",
     "is_executing": false
    }
   }
  },
  {
   "cell_type": "code",
   "execution_count": 3,
   "outputs": [],
   "source": [
    "\"\"\"\n",
    "Set settings\n",
    "\"\"\"\n",
    "#355, 380, 445, 470, 555, 660, 865, 935\n",
    "wavelengths = [0.66,0.865]\n",
    "time_difference = 10 # sec for BOMEX2\n",
    "n_satellite = 21\n",
    "num_of_viewed_medium = 1\n",
    "projection_type = 'perspective'\n",
    "# projection_type = 'orthographic'\n",
    "\n",
    "# input_cloud = 'rico52x57x26'\n",
    "# input_cloud = 'rico32x37x26'\n",
    "input_cloud = 'BOMEX2'\n",
    "# input_cloud = 'Linv'\n",
    "\n",
    "\n",
    "if len(wavelengths) > 1:\n",
    "    type = 'polychromatic'\n",
    "else:\n",
    "    type = 'monochromatic'\n",
    "\n",
    "\n",
    "output_dir = 'cvpr/{}_different_cloud_base_line_lowerres_wl_{}_n_satellite_img_per_sat_{}_projection_{}_dt10_vel7.3/dynamic_medium_{}'.format(input_cloud, np.array_str(np.array(wavelengths)).replace(\" \", \",\"),\n",
    "                                                                                   n_satellite,num_of_viewed_medium, projection_type,type)\n",
    "\n",
    "# sun\n",
    "sun_azimuth_list=np.linspace(25,25+0.1*num_of_viewed_medium,num_of_viewed_medium)\n",
    "sun_zenith_list=np.linspace(121.07,121.07-0.035*(num_of_viewed_medium-1),num_of_viewed_medium)\n",
    "\n",
    "# solver\n",
    "iter = 100"
   ],
   "metadata": {
    "collapsed": false,
    "pycharm": {
     "name": "#%%\n",
     "is_executing": false
    }
   }
  },
  {
   "cell_type": "code",
   "execution_count": 4,
   "outputs": [],
   "source": [
    "# Mie scattering for water droplets\n",
    "mie_table_paths = [\n",
    "    '../mie_tables/polydisperse/Water_{}nm.scat'.format(shdom.int_round(wavelength)) \n",
    "    for wavelength in wavelengths\n",
    "]\n",
    "\n",
    "solar_spectrum = shdom.SolarSpectrum('../ancillary_data/SpectralSolar_MODWehrli_1985_WMO.npz')\n",
    "solar_fluxes = solar_spectrum.get_monochrome_solar_flux(wavelengths)\n"
   ],
   "metadata": {
    "collapsed": false,
    "pycharm": {
     "name": "#%%\n",
     "is_executing": false
    }
   }
  },
  {
   "cell_type": "code",
   "execution_count": 5,
   "outputs": [],
   "source": [
    "# Load a Microphysical scatterer\n",
    "droplets = shdom.MicrophysicalScatterer()\n",
    "if input_cloud=='BOMEX2':\n",
    "    step = int(time_difference/5)\n",
    "    data_dir = '../synthetic_cloud_fields/WIZ_Clouds/BOMEX2'\n",
    "    format_ = '*.txt'# load \n",
    "    volumes_paths = sorted(glob.glob(data_dir + '/'+format_))\n",
    "    volumes_paths = [volumes_paths[i] for i in range(100,100+step*7,step)]\n",
    "    volumes_paths = [volumes_paths[3]]\n",
    "    droplets.load_from_csv(volumes_paths[0])\n",
    "    grid = shdom.Grid(x=droplets.grid.x[50:110],y=droplets.grid.y[260:300],z=np.linspace(0,1.5,45))\n",
    "\n",
    "elif input_cloud=='Linv':\n",
    "    step = int(time_difference/30)\n",
    "    data_dir = '../synthetic_cloud_fields/WIZ_Clouds/Linv'\n",
    "    format_ = '*.txt'# load \n",
    "    volumes_paths = sorted(glob.glob(data_dir + '/'+format_))\n",
    "    volumes_paths = [volumes_paths[i] for i in range(3,3+step*num_of_viewed_medium,step)]\n",
    "    droplets.load_from_csv(volumes_paths[0])\n",
    "    grid = shdom.Grid(x=droplets.grid.x[50:100],y=droplets.grid.y[80:150],z=np.linspace(0,1.5,45))"
   ],
   "metadata": {
    "collapsed": false,
    "pycharm": {
     "name": "#%%\n",
     "is_executing": false
    }
   }
  },
  {
   "cell_type": "code",
   "execution_count": 6,
   "outputs": [
    {
     "name": "stdout",
     "text": [
      "Reading mie table from file: ../mie_tables/polydisperse/Water_660nm.scat\n",
      "Reading mie table from file: ../mie_tables/polydisperse/Water_865nm.scat\n"
     ],
     "output_type": "stream"
    }
   ],
   "source": [
    "mie_list = []\n",
    "for wavelength, table_path in zip(wavelengths, mie_table_paths):  \n",
    "        # Molecular Rayleigh scattering\n",
    "        \n",
    "        mie = shdom.MiePolydisperse()\n",
    "        mie.read_table(table_path)\n",
    "        mie_list.append(mie)\n",
    "droplets.add_mie(mie_list)\n"
   ],
   "metadata": {
    "collapsed": false,
    "pycharm": {
     "name": "#%%\n",
     "is_executing": false
    }
   }
  },
  {
   "cell_type": "code",
   "execution_count": 7,
   "outputs": [],
   "source": [
    "# ext = droplets.get_extinction(wavelengths[0])\n",
    "# e=ext.data\n",
    "# ee=np.sum(e,2)\n",
    "# print(ee[ee>0.01].mean()*10/1000)\n",
    "# import matplotlib.pyplot as plt\n",
    "# _ = plt.hist(ee[ee>0.01]*10/1000, bins='auto')"
   ],
   "metadata": {
    "collapsed": false,
    "pycharm": {
     "name": "#%%\n",
     "is_executing": false
    }
   }
  },
  {
   "cell_type": "code",
   "execution_count": 8,
   "outputs": [
    {
     "name": "stdout",
     "text": [
      "Minimum medium effective radius [0.11] is smaller than the pre-computed table minimum radius [1.00]. Recompute Mie table with smaller minimum radius. Setting exceptioned values to pre-computed minimal value\n",
      "Minimum medium effective variance [0.00] is smaller than the pre-computed table minimum variance [0.01]. Recompute Mie table with smaller minimum variance. Setting exceptioned values to pre-computed minimal value\n"
     ],
     "output_type": "stream"
    }
   ],
   "source": [
    "droplets.resample(grid)\n",
    "com_x, com_y, com_z = calccenterofmass(droplets=droplets)\n",
    "com = np.array([com_x, com_y, com_z])\n",
    "\n",
    "# time_list = np.arange(0,step*num_of_viewed_medium,step)#sec"
   ],
   "metadata": {
    "collapsed": false,
    "pycharm": {
     "name": "#%%\n",
     "is_executing": false
    }
   }
  },
  {
   "cell_type": "code",
   "execution_count": 9,
   "outputs": [],
   "source": [
    "df = pd.read_csv('../ancillary_data/AFGL_summer_mid_lat.txt', comment='#', sep=' ')\n",
    "temperatures = df['Temperature(k)'].to_numpy(dtype=np.float32)\n",
    "altitudes = df['Altitude(km)'].to_numpy(dtype=np.float32)\n",
    "temperature_profile = shdom.GridData(shdom.Grid(z=altitudes), temperatures)\n",
    "air_grid = shdom.Grid(z=np.linspace(0, 20, 20))\n"
   ],
   "metadata": {
    "collapsed": false,
    "pycharm": {
     "name": "#%% Rayleigh scattering for air molecules up to 20 km\n",
     "is_executing": false
    }
   }
  },
  {
   "cell_type": "code",
   "execution_count": 10,
   "outputs": [
    {
     "name": "stdout",
     "text": [
      "Reading mie table from file: ../mie_tables/polydisperse/Water_660nm.scat\n",
      "Reading mie table from file: ../mie_tables/polydisperse/Water_865nm.scat\n"
     ],
     "output_type": "stream"
    }
   ],
   "source": [
    "air = shdom.MultispectralScatterer()\n",
    "mie_list = []\n",
    "for wavelength, table_path in zip(wavelengths, mie_table_paths):  \n",
    "        # Molecular Rayleigh scattering\n",
    "        rayleigh = shdom.Rayleigh(wavelength)\n",
    "        rayleigh.set_profile(temperature_profile.resample(air_grid))\n",
    "        air.add_scatterer(rayleigh.get_scatterer())\n",
    "        mie = shdom.MiePolydisperse()\n",
    "        mie.read_table(table_path)\n",
    "        mie_list.append(mie)"
   ],
   "metadata": {
    "collapsed": false,
    "pycharm": {
     "name": "#%%\n",
     "is_executing": false
    }
   }
  },
  {
   "cell_type": "code",
   "execution_count": 11,
   "outputs": [
    {
     "name": "stdout",
     "text": [
      "Minimum medium effective radius [0.11] is smaller than the pre-computed table minimum radius [1.00]. Recompute Mie table with smaller minimum radius. Setting exceptioned values to pre-computed minimal value\n",
      "Minimum medium effective variance [0.00] is smaller than the pre-computed table minimum variance [0.01]. Recompute Mie table with smaller minimum variance. Setting exceptioned values to pre-computed minimal value\n"
     ],
     "output_type": "stream"
    }
   ],
   "source": [
    "temporary_scatterer_list = []\n",
    "# grid = shdom.Grid(x=np.linspace(com_x-0.5,com_x+0.5,100),y=np.linspace(com_y-0.5,com_y+0.5,100),z=np.linspace(com_z-0.5,com_z+0.5,100))\n",
    "# grid = shdom.Grid(x=np.linspace(droplets.grid.xmin+0.5,droplets.grid.xmax-0.5,100),y=np.linspace(droplets.grid.ymin+0.5,droplets.grid.ymax-0.5,100),z=np.linspace(droplets.grid.zmin,droplets.grid.zmax-1,100))\n",
    "time_list = []\n",
    "for volumes_path in volumes_paths:\n",
    "    s = volumes_path\n",
    "    time = int(s[s.rfind('_')+1:s.rfind('.txt')])/2\n",
    "    time_list.append(time)\n",
    "    droplets = shdom.MicrophysicalScatterer()\n",
    "    droplets.load_from_csv(volumes_path)\n",
    "    for mie in mie_list:  \n",
    "        droplets.add_mie(mie)\n",
    "    droplets.resample(grid)\n",
    "\n",
    "    # pad with zeros\n",
    "    for data in [droplets.lwc.data, droplets.reff.data, droplets.veff.data]:\n",
    "        data[0,:,:] = 0\n",
    "        data[:,0,:] = 0\n",
    "        data[:,:,0] = 0\n",
    "        data[-1,:,:] = 0\n",
    "        data[:,-1,:] = 0\n",
    "        data[:,:,-1] = 0\n",
    "        \n",
    "    temporary_scatterer_list.append(shdom.TemporaryScatterer(droplets,time)) \n",
    "# time_list = np.mean(np.split(np.array(time_list),num_of_viewed_medium),1)       \n"
   ],
   "metadata": {
    "collapsed": false,
    "pycharm": {
     "name": "#%%\n",
     "is_executing": false
    }
   }
  },
  {
   "cell_type": "code",
   "execution_count": 12,
   "outputs": [],
   "source": [
    "dynamic_scatterer = shdom.DynamicScatterer()\n",
    "if input_cloud == 'rico52x57x26' or input_cloud == 'rico32x37x26':\n",
    "    dynamic_scatterer.generate_dynamic_scatterer(scatterer=droplets, time_list=time_list, scatterer_velocity_list=vel_cloud)\n",
    "else:\n",
    "    dynamic_scatterer.add_temporary_scatterer(temporary_scatterer_list)\n",
    "\n",
    "dynamic_medium = shdom.DynamicMedium(dynamic_scatterer,air=air)"
   ],
   "metadata": {
    "collapsed": false,
    "pycharm": {
     "name": "#%%\n",
     "is_executing": false
    }
   }
  },
  {
   "cell_type": "code",
   "execution_count": 13,
   "outputs": [],
   "source": [
    "scene_params_list = []\n",
    "numerical_params_list =[]\n",
    "for sun_azimuth, sun_zenith in zip(sun_azimuth_list, sun_zenith_list):\n",
    "    scene_params=[]\n",
    "    numerical_params=[]\n",
    "    for wavelength, solar_flux in zip(wavelengths, solar_fluxes):\n",
    "        scene_params.append( shdom.SceneParameters(\n",
    "            wavelength=wavelength,\n",
    "            source=shdom.SolarSource(azimuth=sun_azimuth, zenith=sun_zenith, flux=solar_flux)\n",
    "        ))\n",
    "        numerical_params.append(shdom.NumericalParameters(num_mu_bins=8,num_phi_bins=16))\n",
    "    scene_params_list.append(scene_params)\n",
    "    numerical_params_list.append(numerical_params)"
   ],
   "metadata": {
    "collapsed": false,
    "pycharm": {
     "name": "#%%\n",
     "is_executing": false
    }
   }
  },
  {
   "cell_type": "code",
   "execution_count": 14,
   "outputs": [
    {
     "name": "stdout",
     "text": [
      "--------------------\n",
      "--------------------\n",
      "--------------------\n",
      "CAMERA intrinsics summary\n",
      "fov = 0.10141350899898528[deg], cnx = 88[pixels],cny =88[pixels]\n",
      "--------------------\n",
      "--------------------\n",
      "--------------------\n",
      "Medium summary\n",
      "nx = 60, ny = 40,nz =63\n",
      "dx = 0.009999990463256836, dy = 0.009999990463256836,dz =0.023809523809523808\n",
      "Lx = 0.5900000333786011, Ly = 0.3900001049041748,Lz =20.0\n",
      "xmin = 0.5, ymin = 2.5999999046325684,zmin =0.0\n",
      "xmax = 1.090000033378601, ymax = 2.990000009536743,zmax =20.0\n",
      "--------------------\n",
      "--------------------\n",
      "--------------------\n"
     ],
     "output_type": "stream"
    }
   ],
   "source": [
    "# orbit altitude:\n",
    "Rsat = 500 # km\n",
    "from shdom import CloudCT_setup\n",
    "\n",
    "# -----------------------------------------------\n",
    "# ---------Calculate camera footprint at nadir --\n",
    "# -----------------------------------------------\n",
    "atmospheric_grid = dynamic_medium.medium_list[0].grid\n",
    "dx = atmospheric_grid.dx\n",
    "dy = atmospheric_grid.dy\n",
    "\n",
    "nz = atmospheric_grid.nz\n",
    "nx = atmospheric_grid.nx\n",
    "ny = atmospheric_grid.ny\n",
    "\n",
    "Lx = atmospheric_grid.bounding_box.xmax - atmospheric_grid.bounding_box.xmin\n",
    "Ly = atmospheric_grid.bounding_box.ymax - atmospheric_grid.bounding_box.ymin\n",
    "Lz = atmospheric_grid.bounding_box.zmax - atmospheric_grid.bounding_box.zmin\n",
    "L = max(Lx,Ly)\n",
    "Lz_droplets = droplets.grid.bounding_box.zmax - droplets.grid.bounding_box.zmin\n",
    "dz = Lz_droplets/nz\n",
    "\n",
    "#USED FOV, RESOLUTION and SAT_LOOKATS:\n",
    "PIXEL_FOOTPRINT = 0.02 # km\n",
    "PIXEL_FOOTPRINT = 0.01 # km\n",
    "fov = 2*np.rad2deg(np.arctan(0.5*L/(Rsat)))\n",
    "cny = int(np.floor(L/PIXEL_FOOTPRINT))\n",
    "cnx = int(np.floor(L/PIXEL_FOOTPRINT))\n",
    "\n",
    "CENTER_OF_MEDIUM_BOTTOM = [0.5*nx*dx + atmospheric_grid.bounding_box.xmin, 0.5*ny*dy + atmospheric_grid.bounding_box.ymin , droplets.grid.bounding_box.zmin]\n",
    "\n",
    "# Somtimes it is more convinent to use wide fov to see the whole cloud\n",
    "# from all the view points. so the FOV is aslo tuned:\n",
    "IFTUNE_CAM = True\n",
    "# --- TUNE FOV, CNY,CNX:\n",
    "if(IFTUNE_CAM):\n",
    "    L = 1.5*L\n",
    "    fov = 2*np.rad2deg(np.arctan(0.5*L/(Rsat)))\n",
    "    cny = int(np.floor(L/PIXEL_FOOTPRINT))\n",
    "    cnx = int(np.floor(L/PIXEL_FOOTPRINT))    \n",
    "\n",
    "print(20*\"-\")\n",
    "print(20*\"-\")\n",
    "print(20*\"-\")\n",
    "\n",
    "print(\"CAMERA intrinsics summary\")\n",
    "print(\"fov = {}[deg], cnx = {}[pixels],cny ={}[pixels]\".format(fov,cnx,cny))\n",
    "\n",
    "print(20*\"-\")\n",
    "print(20*\"-\")\n",
    "print(20*\"-\")\n",
    "\n",
    "print(\"Medium summary\")\n",
    "print(\"nx = {}, ny = {},nz ={}\".format(nx,ny,nz))\n",
    "print(\"dx = {}, dy = {},dz ={}\".format(dx,dy,dz))\n",
    "print(\"Lx = {}, Ly = {},Lz ={}\".format(Lx,Ly,Lz))\n",
    "x_min = atmospheric_grid.bounding_box.xmin\n",
    "x_max = atmospheric_grid.bounding_box.xmax\n",
    "\n",
    "y_min = atmospheric_grid.bounding_box.ymin\n",
    "y_max = atmospheric_grid.bounding_box.ymax\n",
    "\n",
    "z_min = atmospheric_grid.bounding_box.zmin\n",
    "z_max = atmospheric_grid.bounding_box.zmax \n",
    "print(\"xmin = {}, ymin = {},zmin ={}\".format(x_min,y_min,z_min))\n",
    "print(\"xmax = {}, ymax = {},zmax ={}\".format(x_max,y_max,z_max))\n",
    "\n",
    "print(20*\"-\")\n",
    "print(20*\"-\")\n",
    "print(20*\"-\")\n",
    "# ---------------------------------------------------------------\n",
    "# ---------------CREATE THE SETUP----------------------------\n",
    "# ---------------------------------------------------------------\n",
    "SATS_NUMBER = n_satellite*num_of_viewed_medium\n",
    "VISSETUP = False\n",
    "# not for all the mediums the CENTER_OF_MEDIUM_BOTTOM is a good place to lookat.\n",
    "# tuning is applied by the variavle LOOKAT.\n",
    "LOOKAT = CENTER_OF_MEDIUM_BOTTOM\n",
    "LOOKAT[2] = 0.5*nz*dz # tuning\n",
    "# LOOKAT = com\n",
    "SAT_LOOKATS = np.array(SATS_NUMBER*LOOKAT).reshape(-1,3)       \n",
    "\n",
    "# create CloudCT setup:\n",
    "CloudCT_VIEWS = CloudCT_setup.Create(\\\n",
    "    SATS_NUMBER = SATS_NUMBER,ORBIT_ALTITUDE = Rsat, \\\n",
    "    CAM_FOV = fov, CAM_RES = (cnx,cny), SAT_LOOKATS = SAT_LOOKATS, VISSETUP = VISSETUP)"
   ],
   "metadata": {
    "collapsed": false,
    "pycharm": {
     "name": "#%%\n",
     "is_executing": false
    }
   }
  },
  {
   "cell_type": "code",
   "execution_count": 15,
   "outputs": [],
   "source": [
    "# split_indices = np.cumsum(CloudCT_VIEWS.npix[:-1])\n",
    "# CloudCT_VIEWS_splited = projection_split(CloudCT_VIEWS, num_of_viewed_medium)\n",
    "CloudCT_VIEWS_splited = shdom.MultiViewProjection(CloudCT_VIEWS.projection_list)\n",
    "CloudCT_VIEWS_splited = CloudCT_VIEWS.projection_list\n",
    "projections_list =[]\n",
    "for i in range(num_of_viewed_medium):\n",
    "    projections_list+=[shdom.MultiViewProjection(CloudCT_VIEWS_splited[i::num_of_viewed_medium])]\n",
    "    projections_list[i]._resolution=CloudCT_VIEWS.resolution[i::num_of_viewed_medium]\n",
    "\n",
    "CloudCT_VIEWS_splited = projections_list\n",
    "dynamic_projection = shdom.DynamicProjection(CloudCT_VIEWS_splited)"
   ],
   "metadata": {
    "collapsed": false,
    "pycharm": {
     "name": "#%%\n",
     "is_executing": false
    }
   }
  },
  {
   "cell_type": "code",
   "execution_count": 16,
   "outputs": [],
   "source": [
    "dynamic_solver = shdom.DynamicRteSolver(scene_params=scene_params_list,numerical_params=numerical_params_list)\n",
    "dynamic_solver.set_dynamic_medium(dynamic_medium)\n",
    "dynamic_solver.solve(maxiter=iter,verbose=True)"
   ],
   "metadata": {
    "collapsed": false,
    "pycharm": {
     "name": "#%%\n",
     "is_executing": false
    }
   }
  },
  {
   "cell_type": "code",
   "execution_count": 17,
   "outputs": [],
   "source": [
    "dynamic_camera = shdom.DynamicCamera(shdom.RadianceSensor(), dynamic_projection)\n",
    "images = dynamic_camera.render(dynamic_solver,n_jobs=40)"
   ],
   "metadata": {
    "collapsed": false,
    "pycharm": {
     "name": "#%%\n",
     "is_executing": false
    }
   }
  },
  {
   "cell_type": "code",
   "execution_count": 18,
   "outputs": [],
   "source": [
    "measurements = shdom.DynamicMeasurements(camera=dynamic_camera, images=images, wavelength=wavelengths,time_list=time_list)\n",
    "measurements.set_noise(shdom.AirMSPINoise())"
   ],
   "metadata": {
    "collapsed": false,
    "pycharm": {
     "name": "#%%\n",
     "is_executing": false
    }
   }
  },
  {
   "cell_type": "code",
   "execution_count": 19,
   "outputs": [],
   "source": [
    "shdom.save_dynamic_forward_model(output_dir, dynamic_medium, dynamic_solver, measurements)"
   ],
   "metadata": {
    "collapsed": false,
    "pycharm": {
     "name": "#%% save\n",
     "is_executing": false
    }
   }
  },
  {
   "cell_type": "code",
   "execution_count": 20,
   "outputs": [
    {
     "data": {
      "text/plain": "<Figure size 1440x1440 with 21 Axes>",
      "image/png": "[encoded data removed]"
     },
     "metadata": {
      "needs_background": "light"
     },
     "output_type": "display_data"
    }
   ],
   "source": [
    "%matplotlib inline\n",
    "f, axarr = plt.subplots(1, len(images), figsize=(20, 20))\n",
    "if isinstance(axarr,plt.Axes):\n",
    "    axarr = [axarr]\n",
    "for ax, image in zip(axarr, images):\n",
    "    if len(image.shape)>2 and image.shape[2]==2:\n",
    "        image = np.concatenate((np.reshape(image[:,:,0],(image.shape[0],image.shape[1],1)),image),2)\n",
    "    elif len(image.shape)>2 and image.shape[2]>3:\n",
    "        image = image[:,:,0:2]\n",
    "    # image -= image.min()\n",
    "    ax.imshow(image/image.max())"
   ],
   "metadata": {
    "collapsed": false,
    "pycharm": {
     "name": "#%%\n",
     "is_executing": false
    }
   }
  },
  {
   "cell_type": "code",
   "execution_count": 21,
   "outputs": [
    {
     "name": "stderr",
     "text": [
      "Clipping input data to the valid range for imshow with RGB data ([0..1] for floats or [0..255] for integers).\n",
      "Clipping input data to the valid range for imshow with RGB data ([0..1] for floats or [0..255] for integers).\n",
      "Clipping input data to the valid range for imshow with RGB data ([0..1] for floats or [0..255] for integers).\n",
      "Clipping input data to the valid range for imshow with RGB data ([0..1] for floats or [0..255] for integers).\n",
      "Clipping input data to the valid range for imshow with RGB data ([0..1] for floats or [0..255] for integers).\n",
      "Clipping input data to the valid range for imshow with RGB data ([0..1] for floats or [0..255] for integers).\n",
      "Clipping input data to the valid range for imshow with RGB data ([0..1] for floats or [0..255] for integers).\n",
      "Clipping input data to the valid range for imshow with RGB data ([0..1] for floats or [0..255] for integers).\n",
      "Clipping input data to the valid range for imshow with RGB data ([0..1] for floats or [0..255] for integers).\n",
      "Clipping input data to the valid range for imshow with RGB data ([0..1] for floats or [0..255] for integers).\n",
      "Clipping input data to the valid range for imshow with RGB data ([0..1] for floats or [0..255] for integers).\n",
      "Clipping input data to the valid range for imshow with RGB data ([0..1] for floats or [0..255] for integers).\n",
      "Clipping input data to the valid range for imshow with RGB data ([0..1] for floats or [0..255] for integers).\n",
      "Clipping input data to the valid range for imshow with RGB data ([0..1] for floats or [0..255] for integers).\n",
      "Clipping input data to the valid range for imshow with RGB data ([0..1] for floats or [0..255] for integers).\n",
      "Clipping input data to the valid range for imshow with RGB data ([0..1] for floats or [0..255] for integers).\n",
      "Clipping input data to the valid range for imshow with RGB data ([0..1] for floats or [0..255] for integers).\n",
      "Clipping input data to the valid range for imshow with RGB data ([0..1] for floats or [0..255] for integers).\n",
      "Clipping input data to the valid range for imshow with RGB data ([0..1] for floats or [0..255] for integers).\n",
      "Clipping input data to the valid range for imshow with RGB data ([0..1] for floats or [0..255] for integers).\n",
      "Clipping input data to the valid range for imshow with RGB data ([0..1] for floats or [0..255] for integers).\n"
     ],
     "output_type": "stream"
    },
    {
     "data": {
      "text/plain": "<Figure size 1440x1440 with 21 Axes>",
      "image/png": "[encoded data removed]"
     },
     "metadata": {
      "needs_background": "light"
     },
     "output_type": "display_data"
    }
   ],
   "source": [
    "%matplotlib inline\n",
    "f, axarr = plt.subplots(1, len(images), figsize=(20, 20))\n",
    "if isinstance(axarr,plt.Axes):\n",
    "    axarr = [axarr]\n",
    "for ax, image, noisy_image in zip(axarr, images, measurements.images):\n",
    "    dif_image = noisy_image-image\n",
    "    if len(dif_image.shape)>2 and dif_image.shape[2]==2:\n",
    "        dif_image = np.concatenate((np.reshape(dif_image[:,:,0],(dif_image.shape[0],dif_image.shape[1],1)),dif_image),2)\n",
    "    elif len(dif_image.shape)>2 and dif_image.shape[2]>3:\n",
    "        dif_image = dif_image[:,:,0:2]\n",
    "    # image -= image.min()\n",
    "    ax.imshow(dif_image/dif_image.max())"
   ],
   "metadata": {
    "collapsed": false,
    "pycharm": {
     "name": "#%%\n",
     "is_executing": false
    }
   }
  },
  {
   "cell_type": "code",
   "execution_count": 22,
   "outputs": [
    {
     "traceback": [
      "\u001b[0;31m---------------------------------------------------------------------------\u001b[0m",
      "\u001b[0;31mTypeError\u001b[0m                                 Traceback (most recent call last)",
      "\u001b[0;32m<ipython-input-22-36df8273549b>\u001b[0m in \u001b[0;36m<module>\u001b[0;34m\u001b[0m\n\u001b[0;32m----> 1\u001b[0;31m \u001b[0mplt\u001b[0m\u001b[0;34m.\u001b[0m\u001b[0mimshow\u001b[0m\u001b[0;34m(\u001b[0m\u001b[0mimages\u001b[0m\u001b[0;34m[\u001b[0m\u001b[0;36m10\u001b[0m\u001b[0;34m]\u001b[0m\u001b[0;34m)\u001b[0m\u001b[0;34m\u001b[0m\u001b[0;34m\u001b[0m\u001b[0m\n\u001b[0m\u001b[1;32m      2\u001b[0m \u001b[0mplt\u001b[0m\u001b[0;34m.\u001b[0m\u001b[0mcolorbar\u001b[0m\u001b[0;34m(\u001b[0m\u001b[0;34m)\u001b[0m\u001b[0;34m\u001b[0m\u001b[0;34m\u001b[0m\u001b[0m\n\u001b[1;32m      3\u001b[0m \u001b[0;34m\u001b[0m\u001b[0m\n",
      "\u001b[0;32m~/anaconda3/envs/pyshdom/lib/python3.7/site-packages/matplotlib/pyplot.py\u001b[0m in \u001b[0;36mimshow\u001b[0;34m(X, cmap, norm, aspect, interpolation, alpha, vmin, vmax, origin, extent, shape, filternorm, filterrad, imlim, resample, url, data, **kwargs)\u001b[0m\n\u001b[1;32m   2682\u001b[0m         \u001b[0mfilternorm\u001b[0m\u001b[0;34m=\u001b[0m\u001b[0mfilternorm\u001b[0m\u001b[0;34m,\u001b[0m \u001b[0mfilterrad\u001b[0m\u001b[0;34m=\u001b[0m\u001b[0mfilterrad\u001b[0m\u001b[0;34m,\u001b[0m \u001b[0mimlim\u001b[0m\u001b[0;34m=\u001b[0m\u001b[0mimlim\u001b[0m\u001b[0;34m,\u001b[0m\u001b[0;34m\u001b[0m\u001b[0;34m\u001b[0m\u001b[0m\n\u001b[1;32m   2683\u001b[0m         resample=resample, url=url, **({\"data\": data} if data is not\n\u001b[0;32m-> 2684\u001b[0;31m         None else {}), **kwargs)\n\u001b[0m\u001b[1;32m   2685\u001b[0m     \u001b[0msci\u001b[0m\u001b[0;34m(\u001b[0m\u001b[0m__ret\u001b[0m\u001b[0;34m)\u001b[0m\u001b[0;34m\u001b[0m\u001b[0;34m\u001b[0m\u001b[0m\n\u001b[1;32m   2686\u001b[0m     \u001b[0;32mreturn\u001b[0m \u001b[0m__ret\u001b[0m\u001b[0;34m\u001b[0m\u001b[0;34m\u001b[0m\u001b[0m\n",
      "\u001b[0;32m~/anaconda3/envs/pyshdom/lib/python3.7/site-packages/matplotlib/__init__.py\u001b[0m in \u001b[0;36minner\u001b[0;34m(ax, data, *args, **kwargs)\u001b[0m\n\u001b[1;32m   1597\u001b[0m     \u001b[0;32mdef\u001b[0m \u001b[0minner\u001b[0m\u001b[0;34m(\u001b[0m\u001b[0max\u001b[0m\u001b[0;34m,\u001b[0m \u001b[0;34m*\u001b[0m\u001b[0margs\u001b[0m\u001b[0;34m,\u001b[0m \u001b[0mdata\u001b[0m\u001b[0;34m=\u001b[0m\u001b[0;32mNone\u001b[0m\u001b[0;34m,\u001b[0m \u001b[0;34m**\u001b[0m\u001b[0mkwargs\u001b[0m\u001b[0;34m)\u001b[0m\u001b[0;34m:\u001b[0m\u001b[0;34m\u001b[0m\u001b[0;34m\u001b[0m\u001b[0m\n\u001b[1;32m   1598\u001b[0m         \u001b[0;32mif\u001b[0m \u001b[0mdata\u001b[0m \u001b[0;32mis\u001b[0m \u001b[0;32mNone\u001b[0m\u001b[0;34m:\u001b[0m\u001b[0;34m\u001b[0m\u001b[0;34m\u001b[0m\u001b[0m\n\u001b[0;32m-> 1599\u001b[0;31m             \u001b[0;32mreturn\u001b[0m \u001b[0mfunc\u001b[0m\u001b[0;34m(\u001b[0m\u001b[0max\u001b[0m\u001b[0;34m,\u001b[0m \u001b[0;34m*\u001b[0m\u001b[0mmap\u001b[0m\u001b[0;34m(\u001b[0m\u001b[0msanitize_sequence\u001b[0m\u001b[0;34m,\u001b[0m \u001b[0margs\u001b[0m\u001b[0;34m)\u001b[0m\u001b[0;34m,\u001b[0m \u001b[0;34m**\u001b[0m\u001b[0mkwargs\u001b[0m\u001b[0;34m)\u001b[0m\u001b[0;34m\u001b[0m\u001b[0;34m\u001b[0m\u001b[0m\n\u001b[0m\u001b[1;32m   1600\u001b[0m \u001b[0;34m\u001b[0m\u001b[0m\n\u001b[1;32m   1601\u001b[0m         \u001b[0mbound\u001b[0m \u001b[0;34m=\u001b[0m \u001b[0mnew_sig\u001b[0m\u001b[0;34m.\u001b[0m\u001b[0mbind\u001b[0m\u001b[0;34m(\u001b[0m\u001b[0max\u001b[0m\u001b[0;34m,\u001b[0m \u001b[0;34m*\u001b[0m\u001b[0margs\u001b[0m\u001b[0;34m,\u001b[0m \u001b[0;34m**\u001b[0m\u001b[0mkwargs\u001b[0m\u001b[0;34m)\u001b[0m\u001b[0;34m\u001b[0m\u001b[0;34m\u001b[0m\u001b[0m\n",
      "\u001b[0;32m~/anaconda3/envs/pyshdom/lib/python3.7/site-packages/matplotlib/cbook/deprecation.py\u001b[0m in \u001b[0;36mwrapper\u001b[0;34m(*args, **kwargs)\u001b[0m\n\u001b[1;32m    367\u001b[0m                 \u001b[0;34mf\"%(removal)s.  If any parameter follows {name!r}, they \"\u001b[0m\u001b[0;34m\u001b[0m\u001b[0;34m\u001b[0m\u001b[0m\n\u001b[1;32m    368\u001b[0m                 f\"should be pass as keyword, not positionally.\")\n\u001b[0;32m--> 369\u001b[0;31m         \u001b[0;32mreturn\u001b[0m \u001b[0mfunc\u001b[0m\u001b[0;34m(\u001b[0m\u001b[0;34m*\u001b[0m\u001b[0margs\u001b[0m\u001b[0;34m,\u001b[0m \u001b[0;34m**\u001b[0m\u001b[0mkwargs\u001b[0m\u001b[0;34m)\u001b[0m\u001b[0;34m\u001b[0m\u001b[0;34m\u001b[0m\u001b[0m\n\u001b[0m\u001b[1;32m    370\u001b[0m \u001b[0;34m\u001b[0m\u001b[0m\n\u001b[1;32m    371\u001b[0m     \u001b[0;32mreturn\u001b[0m \u001b[0mwrapper\u001b[0m\u001b[0;34m\u001b[0m\u001b[0;34m\u001b[0m\u001b[0m\n",
      "\u001b[0;32m~/anaconda3/envs/pyshdom/lib/python3.7/site-packages/matplotlib/cbook/deprecation.py\u001b[0m in \u001b[0;36mwrapper\u001b[0;34m(*args, **kwargs)\u001b[0m\n\u001b[1;32m    367\u001b[0m                 \u001b[0;34mf\"%(removal)s.  If any parameter follows {name!r}, they \"\u001b[0m\u001b[0;34m\u001b[0m\u001b[0;34m\u001b[0m\u001b[0m\n\u001b[1;32m    368\u001b[0m                 f\"should be pass as keyword, not positionally.\")\n\u001b[0;32m--> 369\u001b[0;31m         \u001b[0;32mreturn\u001b[0m \u001b[0mfunc\u001b[0m\u001b[0;34m(\u001b[0m\u001b[0;34m*\u001b[0m\u001b[0margs\u001b[0m\u001b[0;34m,\u001b[0m \u001b[0;34m**\u001b[0m\u001b[0mkwargs\u001b[0m\u001b[0;34m)\u001b[0m\u001b[0;34m\u001b[0m\u001b[0;34m\u001b[0m\u001b[0m\n\u001b[0m\u001b[1;32m    370\u001b[0m \u001b[0;34m\u001b[0m\u001b[0m\n\u001b[1;32m    371\u001b[0m     \u001b[0;32mreturn\u001b[0m \u001b[0mwrapper\u001b[0m\u001b[0;34m\u001b[0m\u001b[0;34m\u001b[0m\u001b[0m\n",
      "\u001b[0;32m~/anaconda3/envs/pyshdom/lib/python3.7/site-packages/matplotlib/axes/_axes.py\u001b[0m in \u001b[0;36mimshow\u001b[0;34m(self, X, cmap, norm, aspect, interpolation, alpha, vmin, vmax, origin, extent, shape, filternorm, filterrad, imlim, resample, url, **kwargs)\u001b[0m\n\u001b[1;32m   5677\u001b[0m                               resample=resample, **kwargs)\n\u001b[1;32m   5678\u001b[0m \u001b[0;34m\u001b[0m\u001b[0m\n\u001b[0;32m-> 5679\u001b[0;31m         \u001b[0mim\u001b[0m\u001b[0;34m.\u001b[0m\u001b[0mset_data\u001b[0m\u001b[0;34m(\u001b[0m\u001b[0mX\u001b[0m\u001b[0;34m)\u001b[0m\u001b[0;34m\u001b[0m\u001b[0;34m\u001b[0m\u001b[0m\n\u001b[0m\u001b[1;32m   5680\u001b[0m         \u001b[0mim\u001b[0m\u001b[0;34m.\u001b[0m\u001b[0mset_alpha\u001b[0m\u001b[0;34m(\u001b[0m\u001b[0malpha\u001b[0m\u001b[0;34m)\u001b[0m\u001b[0;34m\u001b[0m\u001b[0;34m\u001b[0m\u001b[0m\n\u001b[1;32m   5681\u001b[0m         \u001b[0;32mif\u001b[0m \u001b[0mim\u001b[0m\u001b[0;34m.\u001b[0m\u001b[0mget_clip_path\u001b[0m\u001b[0;34m(\u001b[0m\u001b[0;34m)\u001b[0m \u001b[0;32mis\u001b[0m \u001b[0;32mNone\u001b[0m\u001b[0;34m:\u001b[0m\u001b[0;34m\u001b[0m\u001b[0;34m\u001b[0m\u001b[0m\n",
      "\u001b[0;32m~/anaconda3/envs/pyshdom/lib/python3.7/site-packages/matplotlib/image.py\u001b[0m in \u001b[0;36mset_data\u001b[0;34m(self, A)\u001b[0m\n\u001b[1;32m    688\u001b[0m                 or self._A.ndim == 3 and self._A.shape[-1] in [3, 4]):\n\u001b[1;32m    689\u001b[0m             raise TypeError(\"Invalid shape {} for image data\"\n\u001b[0;32m--> 690\u001b[0;31m                             .format(self._A.shape))\n\u001b[0m\u001b[1;32m    691\u001b[0m \u001b[0;34m\u001b[0m\u001b[0m\n\u001b[1;32m    692\u001b[0m         \u001b[0;32mif\u001b[0m \u001b[0mself\u001b[0m\u001b[0;34m.\u001b[0m\u001b[0m_A\u001b[0m\u001b[0;34m.\u001b[0m\u001b[0mndim\u001b[0m \u001b[0;34m==\u001b[0m \u001b[0;36m3\u001b[0m\u001b[0;34m:\u001b[0m\u001b[0;34m\u001b[0m\u001b[0;34m\u001b[0m\u001b[0m\n",
      "\u001b[0;31mTypeError\u001b[0m: Invalid shape (88, 88, 2) for image data"
     ],
     "ename": "TypeError",
     "evalue": "Invalid shape (88, 88, 2) for image data",
     "output_type": "error"
    },
    {
     "data": {
      "text/plain": "<Figure size 432x288 with 1 Axes>",
      "image/png": "[encoded data removed]"
     },
     "metadata": {
      "needs_background": "light"
     },
     "output_type": "display_data"
    }
   ],
   "source": [
    "plt.imshow(images[10])\n",
    "plt.colorbar()"
   ],
   "metadata": {
    "collapsed": false,
    "pycharm": {
     "name": "#%%\n",
     "is_executing": false
    }
   }
  },
  {
   "cell_type": "code",
   "execution_count": null,
   "outputs": [],
   "source": [
    "a,b,c = shdom.load_dynamic_forward_model(output_dir)\n",
    "print()\n",
    "  \n"
   ],
   "metadata": {
    "collapsed": false,
    "pycharm": {
     "name": "#%% test load\n",
     "is_executing": false
    }
   }
  }
 ],
 "metadata": {
  "kernelspec": {
   "display_name": "Python 3",
   "language": "python",
   "name": "python3"
  },
  "language_info": {
   "codemirror_mode": {
    "name": "ipython",
    "version": 2
   },
   "file_extension": ".py",
   "mimetype": "text/x-python",
   "name": "python",
   "nbconvert_exporter": "python",
   "pygments_lexer": "ipython2",
   "version": "2.7.6"
  },
  "pycharm": {
   "stem_cell": {
    "cell_type": "raw",
    "source": [],
    "metadata": {
     "collapsed": false
    }
   }
  }
 },
 "nbformat": 4,
 "nbformat_minor": 0
}