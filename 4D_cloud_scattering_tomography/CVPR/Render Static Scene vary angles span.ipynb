{
 "cells": [
  {
   "cell_type": "code",
   "execution_count": 1,
   "outputs": [],
   "source": [
    "\"\"\"\n",
    "Imports necessary for this notebook\n",
    "\"\"\"\n",
    "import matplotlib.pyplot as plt\n",
    "import numpy as np\n",
    "import pandas as pd\n",
    "import glob\n",
    "import shdom\n",
    "\n"
   ],
   "metadata": {
    "collapsed": false,
    "pycharm": {
     "name": "#%%\n",
     "is_executing": false
    }
   }
  },
  {
   "cell_type": "code",
   "execution_count": 2,
   "outputs": [],
   "source": [
    "def calccenterofmass(droplets):\n",
    "    lwc = droplets.lwc.data\n",
    "    mx = np.sum(np.sum(lwc,2),1)\n",
    "    my = np.sum(np.sum(lwc,2),0)\n",
    "    mz = np.sum(np.sum(lwc,0),0)\n",
    "    com_x = sum(mx * droplets.grid.x)/sum(mx)\n",
    "    com_y = sum(my * droplets.grid.y)/sum(my)\n",
    "    com_z = sum(mz * droplets.grid.z)/sum(mz)\n",
    "    return com_x, com_y, com_z\n",
    "\n",
    "def projection_split(projections, n_parts):\n",
    "    avg = len(projections.projection_list) / float(n_parts)\n",
    "    out = []\n",
    "    last = 0.0\n",
    "\n",
    "    while last < len(projections.projection_list):\n",
    "        out.append(shdom.MultiViewProjection(projections.projection_list[int(last):int(last + avg)]))\n",
    "        last += avg\n",
    "\n",
    "    return out"
   ],
   "metadata": {
    "collapsed": false,
    "pycharm": {
     "name": "#%%\n",
     "is_executing": false
    }
   }
  },
  {
   "cell_type": "code",
   "execution_count": 3,
   "outputs": [],
   "source": [
    "\"\"\"\n",
    "Set settings\n",
    "\"\"\"\n",
    "#355, 380, 445, 470, 555, 660, 865, 935\n",
    "N_angle_steps = 8\n",
    "N_cameras = 9\n",
    "wavelengths = [0.660]\n",
    "vel_cloud = np.array([0.0,0.0,0.0]) # m/s\n",
    "# A fly over from West to East (positive y-axis direction)\n",
    "# camera_zenith_list = [70.5, 60, 45.6, 26.1, 0, 26.1, 45.6, 60, 70.5]\n",
    "# camera_azimuth_list = [-90, -90, -90, -90, 0, 90, 90, 90, 90]\n",
    "# camera_zenith_list = [70.5,  45.6, 26.1, 26.1, 45.6,  70.5]\n",
    "# camera_azimuth_list = [-90, -90, -90, 90, 90,  90]\n",
    "num_of_viewed_medium = 1\n",
    "projection_type = 'perspective'\n",
    "# projection_type = 'pushbroom'\n",
    "# projection_type = 'orthographic'\n",
    "\n",
    "# input_cloud = 'rico52x57x26'\n",
    "# input_cloud = 'rico32x37x26'\n",
    "input_cloud = 'WIZ'\n",
    "input_cloud = 'voxel'\n",
    "\n",
    "if len(wavelengths) > 1:\n",
    "    type = 'polychromatic'\n",
    "else:\n",
    "    type = 'monochromatic'\n",
    "\n",
    "\n",
    "\n",
    "\n",
    "# sun\n",
    "sun_azimuth=65\n",
    "sun_zenith=165\n",
    "\n",
    "# solver\n",
    "iter = 100"
   ],
   "metadata": {
    "collapsed": false,
    "pycharm": {
     "name": "#%%\n",
     "is_executing": false
    }
   }
  },
  {
   "cell_type": "code",
   "execution_count": 4,
   "outputs": [],
   "source": [
    "# Mie scattering for water droplets\n",
    "mie_table_paths = [\n",
    "    '../../mie_tables/polydisperse/Water_{}nm.scat'.format(shdom.int_round(wavelength)) \n",
    "    for wavelength in wavelengths\n",
    "]\n",
    "\n",
    "solar_spectrum = shdom.SolarSpectrum('../../ancillary_data/SpectralSolar_MODWehrli_1985_WMO.npz')\n",
    "solar_fluxes = solar_spectrum.get_monochrome_solar_flux(wavelengths)\n",
    "solar_fluxes = solar_fluxes / max(solar_fluxes)"
   ],
   "metadata": {
    "collapsed": false,
    "pycharm": {
     "name": "#%%\n",
     "is_executing": false
    }
   }
  },
  {
   "cell_type": "code",
   "execution_count": 5,
   "outputs": [],
   "source": [
    "# Load a Microphysical scatterer\n",
    "droplets = shdom.MicrophysicalScatterer()\n",
    "if input_cloud == 'rico52x57x26' or input_cloud == 'rico32x37x26':\n",
    "    camera_height = 3 #km\n",
    "    droplets.load_from_csv('../../synthetic_cloud_fields/jpl_les/{}.txt'.format(input_cloud), veff=0.1)\n",
    "elif input_cloud == 'voxel':\n",
    "    camera_height = 20\n",
    "    data_dir = '../../synthetic_cloud_fields/WIZ_Clouds/BOMEX2'\n",
    "    format_ = '*.txt'# load \n",
    "    volumes_paths = sorted(glob.glob(data_dir + '/'+format_))\n",
    "    volumes_paths = [volumes_paths[i] for i in range(100,100+4*num_of_viewed_medium,4)]\n",
    "    droplets.load_from_csv(volumes_paths[0])\n",
    "    grid = shdom.Grid(x=droplets.grid.x[357:400],y=droplets.grid.y[340:370],z=np.linspace(0,1.5,45))\n",
    "\n",
    "else:\n",
    "    camera_height = 20 #km\n",
    "    assert np.any(vel_cloud==np.array([0.0,0.0,0.0]))\n",
    "    data_dir = '../../synthetic_cloud_fields/WIZ_Clouds/BOMEX2'\n",
    "    format_ = '*.txt'# load \n",
    "    volumes_paths = sorted(glob.glob(data_dir + '/'+format_))\n",
    "    volumes_paths = [volumes_paths[i] for i in range(100,100+4*num_of_viewed_medium,4)]\n",
    "    droplets.load_from_csv(volumes_paths[0])\n",
    "    grid = shdom.Grid(x=droplets.grid.x[357:400],y=droplets.grid.y[340:370],z=np.linspace(0,1.5,45))\n"
   ],
   "metadata": {
    "collapsed": false,
    "pycharm": {
     "name": "#%%\n",
     "is_executing": false
    }
   }
  },
  {
   "cell_type": "code",
   "execution_count": 6,
   "outputs": [],
   "source": [
    "droplets.resample(grid)\n",
    "com_x, com_y, com_z = calccenterofmass(droplets=droplets)\n",
    "com = np.array([com_x, com_y, com_z])"
   ],
   "metadata": {
    "collapsed": false,
    "pycharm": {
     "name": "#%%\n",
     "is_executing": false
    }
   }
  },
  {
   "cell_type": "code",
   "execution_count": 7,
   "outputs": [],
   "source": [
    "df = pd.read_csv('../../ancillary_data/AFGL_summer_mid_lat.txt', comment='#', sep=' ')\n",
    "temperatures = df['Temperature(k)'].to_numpy(dtype=np.float32)\n",
    "altitudes = df['Altitude(km)'].to_numpy(dtype=np.float32)\n",
    "temperature_profile = shdom.GridData(shdom.Grid(z=altitudes), temperatures)\n",
    "air_grid = shdom.Grid(z=np.linspace(0, 20, 20))\n"
   ],
   "metadata": {
    "collapsed": false,
    "pycharm": {
     "name": "#%% Rayleigh scattering for air molecules up to 20 km\n",
     "is_executing": false
    }
   }
  },
  {
   "cell_type": "code",
   "execution_count": 8,
   "outputs": [
    {
     "name": "stdout",
     "text": [
      "Reading mie table from file: ../../mie_tables/polydisperse/Water_660nm.scat\n",
      "Minimum medium effective radius [0.11] is smaller than the pre-computed table minimum radius [1.00]. Recompute Mie table with smaller minimum radius. Setting exceptioned values to pre-computed minimal value\n",
      "Minimum medium effective variance [0.00] is smaller than the pre-computed table minimum variance [0.02]. Recompute Mie table with smaller minimum variance. Setting exceptioned values to pre-computed minimal value\n"
     ],
     "output_type": "stream"
    }
   ],
   "source": [
    "air = shdom.MultispectralScatterer()\n",
    "mie_list = []\n",
    "for wavelength, table_path in zip(wavelengths, mie_table_paths):  \n",
    "        # Molecular Rayleigh scattering\n",
    "        rayleigh = shdom.Rayleigh(wavelength)\n",
    "        rayleigh.set_profile(temperature_profile.resample(air_grid))\n",
    "        air.add_scatterer(rayleigh.get_scatterer())\n",
    "        mie = shdom.MiePolydisperse()\n",
    "        mie.read_table(table_path)\n",
    "        mie_list.append(mie)\n",
    "        \n",
    "temporary_scatterer_list = []\n",
    "if input_cloud == 'rico52x57x26' or input_cloud == 'rico32x37x26':\n",
    "    for mie in mie_list:  \n",
    "        droplets.add_mie(mie)\n",
    "else:\n",
    "    time_list = [0]\n",
    "    for volumes_path in volumes_paths:\n",
    "        droplets = shdom.MicrophysicalScatterer()\n",
    "        droplets.load_from_csv(volumes_path)\n",
    "        for mie in mie_list:  \n",
    "            droplets.add_mie(mie)\n",
    "        droplets.resample(grid)\n",
    "        for data in [droplets.lwc.data, droplets.reff.data, droplets.veff.data]:\n",
    "            data[0,:,:] = 0\n",
    "            data[:,0,:] = 0\n",
    "            data[:,:,0] = 0\n",
    "            data[-1,:,:] = 0\n",
    "            data[:,-1,:] = 0\n",
    "            data[:,:,-1] = 0\n",
    "        if input_cloud == 'voxel':\n",
    "            data = droplets.lwc.data\n",
    "            data[:,:,:] = 0\n",
    "            data[20:22,15:17,20:21] = 0.3\n",
    "            data = droplets.reff.data\n",
    "            data[:,:,:] = 0\n",
    "            data[20:22,15:17,20:21] = 10\n",
    "            data = droplets.veff.data\n",
    "            data[:,:,:] = 0\n",
    "            data[20:22,15:17,20:21] = 0.1\n",
    "            \n",
    "            \n",
    "            \n",
    "        \n",
    "        temporary_scatterer_list.append(shdom.TemporaryScatterer(droplets,0)) \n",
    "time_list = np.mean(np.split(np.array(time_list),num_of_viewed_medium),1)"
   ],
   "metadata": {
    "collapsed": false,
    "pycharm": {
     "name": "#%%\n",
     "is_executing": false
    }
   }
  },
  {
   "cell_type": "code",
   "execution_count": 9,
   "outputs": [],
   "source": [
    "# c = np.sum(a>0)\n",
    "# b = np.sum(a,2)\n",
    "# plt.imshow(b)\n",
    "# print(a[a>0].min())\n",
    "# plt.colorbar()"
   ],
   "metadata": {
    "collapsed": false,
    "pycharm": {
     "name": "#%%\n",
     "is_executing": false
    }
   }
  },
  {
   "cell_type": "code",
   "execution_count": 10,
   "outputs": [],
   "source": [
    "dynamic_scatterer = shdom.DynamicScatterer()\n",
    "if input_cloud == 'rico52x57x26' or input_cloud == 'rico32x37x26':\n",
    "    dynamic_scatterer.generate_dynamic_scatterer(scatterer=droplets, time_list=time_list, scatterer_velocity_list=vel_cloud)\n",
    "else:\n",
    "    dynamic_scatterer.add_temporary_scatterer(temporary_scatterer_list)\n",
    "\n",
    "dynamic_medium = shdom.DynamicMedium(dynamic_scatterer,air=air)"
   ],
   "metadata": {
    "collapsed": false,
    "pycharm": {
     "name": "#%%\n",
     "is_executing": false
    }
   }
  },
  {
   "cell_type": "code",
   "execution_count": 11,
   "outputs": [],
   "source": [
    "scene_params_list = []\n",
    "numerical_params_list =[]\n",
    "for wavelength, solar_flux in zip(wavelengths, solar_fluxes):\n",
    "    scene_params = shdom.SceneParameters(\n",
    "        wavelength=wavelength,\n",
    "        source=shdom.SolarSource(azimuth=sun_azimuth, zenith=sun_zenith, flux=solar_flux),\n",
    "    )\n",
    "    scene_params_list.append(scene_params)\n",
    "    numerical_params = shdom.NumericalParameters(num_mu_bins=8,num_phi_bins=16)\n",
    "    numerical_params_list.append(numerical_params)"
   ],
   "metadata": {
    "collapsed": false,
    "pycharm": {
     "name": "#%%\n",
     "is_executing": false
    }
   }
  },
  {
   "cell_type": "code",
   "execution_count": 12,
   "outputs": [],
   "source": [
    "dynamic_solver = shdom.DynamicRteSolver(scene_params=[scene_params_list],numerical_params=[numerical_params_list])\n",
    "dynamic_solver.set_dynamic_medium(dynamic_medium)\n",
    "dynamic_solver.solve(maxiter=iter,verbose=True)"
   ],
   "metadata": {
    "collapsed": false,
    "pycharm": {
     "name": "#%%\n",
     "is_executing": false
    }
   }
  },
  {
   "cell_type": "code",
   "execution_count": 13,
   "outputs": [
    {
     "name": "stdout",
     "text": [
      "0\n"
     ],
     "output_type": "stream"
    }
   ],
   "source": [
    "\n",
    "for i in range(0,1):\n",
    "    projections = shdom.MultiViewProjection()\n",
    "\n",
    "    angle_span = 16*(i+1)*0+2\n",
    "    # y_max = np.tan(np.deg2rad(angle_span/2))*camera_height\n",
    "    # y_min = -y_max\n",
    "    ang = np.linspace(-angle_span/2,angle_span ,N_cameras)\n",
    "    y = camera_height * np.cos(np.deg2rad(ang))\n",
    "    z = camera_height * np.abs(np.sin(np.deg2rad(ang)))\n",
    "    # L = np.linspace(y_min,y_max ,N_cameras)\n",
    "    for j in range(N_cameras):\n",
    "        if projection_type == 'pushbroom':\n",
    "            projection = (\n",
    "        \n",
    "                    shdom.PushBroomProjection(fov=3, nx=200, ny=200, x=com_x, \n",
    "                                              y=com_y+y[j]\n",
    "                    ,z=z[j],bounding_box=droplets.bounding_box)\n",
    "                )  \n",
    "            projection.look_at_transform(point=com, up=[0.0, 0.0, 1.0])\n",
    "            projections.add_projection(projection)\n",
    "        if projection_type == 'perspective':\n",
    "             projection = (\n",
    "                    shdom.PerspectiveProjection(fov=.5, \n",
    "                    nx=100, ny=100, x=com_x, y=com_y+y[j],\n",
    "                    z=z[j])\n",
    "                )  \n",
    "             projection.look_at_transform(point=com, up=[0.0, 0.0, 1.0])\n",
    "             projections.add_projection(projection)\n",
    "    dynamic_projection = shdom.DynamicProjection(projection_split(projections, num_of_viewed_medium))\n",
    "    dynamic_camera = shdom.DynamicCamera(shdom.RadianceSensor(), dynamic_projection)\n",
    "    images = dynamic_camera.render(dynamic_solver,n_jobs=40)\n",
    "    measurements = shdom.DynamicMeasurements(camera=dynamic_camera, images=images, wavelength=wavelengths,time_list=time_list)\n",
    "    output_dir = 'experiments/{}_wl_img_{}_projection_{}_span_{}_/dynamic_medium_{}'.format(input_cloud, N_cameras,\n",
    "                                                                                   projection_type,angle_span,type)\n",
    "    shdom.save_dynamic_forward_model(output_dir, dynamic_medium, dynamic_solver, measurements)\n",
    "    print(i)"
   ],
   "metadata": {
    "collapsed": false,
    "pycharm": {
     "name": "#%%\n",
     "is_executing": false
    }
   }
  },
  {
   "cell_type": "code",
   "execution_count": 14,
   "outputs": [
    {
     "data": {
      "text/plain": "<Figure size 1440x1440 with 9 Axes>",
      "image/png": "[encoded data removed]"
     },
     "metadata": {
      "needs_background": "light"
     },
     "output_type": "display_data"
    }
   ],
   "source": [
    "%matplotlib inline\n",
    "f, axarr = plt.subplots(1, len(images), figsize=(20, 20))\n",
    "if isinstance(axarr,plt.Axes):\n",
    "    axarr = [axarr]\n",
    "for ax, image in zip(axarr, images):\n",
    "    if len(image.shape)>2 and image.shape[2]==2:\n",
    "        image = np.concatenate((np.reshape(image[:,:,0],(image.shape[0],image.shape[1],1)),image),2)\n",
    "    elif len(image.shape)>2 and image.shape[2]>3:\n",
    "        image = image[:,:,0:2]\n",
    "    ax.imshow(image/image.max())\n"
   ],
   "metadata": {
    "collapsed": false,
    "pycharm": {
     "name": "#%%\n",
     "is_executing": false
    }
   }
  },
  {
   "cell_type": "code",
   "execution_count": 15,
   "outputs": [
    {
     "data": {
      "text/plain": "<matplotlib.colorbar.Colorbar at 0x7ff5008f3f50>"
     },
     "metadata": {},
     "output_type": "execute_result",
     "execution_count": 15
    },
    {
     "data": {
      "text/plain": "<Figure size 432x288 with 2 Axes>",
      "image/png": "[encoded data removed]"
     },
     "metadata": {
      "needs_background": "light"
     },
     "output_type": "display_data"
    }
   ],
   "source": [
    "plt.imshow(images[3])\n",
    "plt.colorbar()\n"
   ],
   "metadata": {
    "collapsed": false,
    "pycharm": {
     "name": "#%%\n",
     "is_executing": false
    }
   }
  }
 ],
 "metadata": {
  "kernelspec": {
   "display_name": "Python 3",
   "language": "python",
   "name": "python3"
  },
  "language_info": {
   "codemirror_mode": {
    "name": "ipython",
    "version": 2
   },
   "file_extension": ".py",
   "mimetype": "text/x-python",
   "name": "python",
   "nbconvert_exporter": "python",
   "pygments_lexer": "ipython2",
   "version": "2.7.6"
  },
  "pycharm": {
   "stem_cell": {
    "cell_type": "raw",
    "source": [],
    "metadata": {
     "collapsed": false
    }
   }
  }
 },
 "nbformat": 4,
 "nbformat_minor": 0
}