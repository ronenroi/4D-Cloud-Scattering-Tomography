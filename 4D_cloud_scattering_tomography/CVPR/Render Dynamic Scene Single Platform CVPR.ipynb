{
 "cells": [
  {
   "cell_type": "code",
   "execution_count": 32,
   "outputs": [],
   "source": [
    "\"\"\"\n",
    "Imports necessary for this notebook\n",
    "\"\"\"\n",
    "import matplotlib.pyplot as plt\n",
    "import numpy as np\n",
    "import pandas as pd\n",
    "import glob\n",
    "import shdom\n",
    "\n"
   ],
   "metadata": {
    "collapsed": false,
    "pycharm": {
     "name": "#%%\n",
     "is_executing": false
    }
   }
  },
  {
   "cell_type": "code",
   "execution_count": 33,
   "outputs": [],
   "source": [
    "def calccenterofmass(droplets):\n",
    "    lwc = droplets.lwc.data\n",
    "    mx = np.sum(np.sum(lwc,2),1)\n",
    "    my = np.sum(np.sum(lwc,2),0)\n",
    "    mz = np.sum(np.sum(lwc,0),0)\n",
    "    com_x = sum(mx * droplets.grid.x)/sum(mx)\n",
    "    com_y = sum(my * droplets.grid.y)/sum(my)\n",
    "    com_z = sum(mz * droplets.grid.z)/sum(mz)\n",
    "    return com_x, com_y, com_z\n",
    "\n",
    "def projection_split(projections, n_parts):\n",
    "    avg = len(projections.projection_list) / float(n_parts)\n",
    "    out = []\n",
    "    last = 0.0\n",
    "\n",
    "    while last < len(projections.projection_list):\n",
    "        out.append(shdom.MultiViewProjection(projections.projection_list[int(last):int(last + avg)]))\n",
    "        last += avg\n",
    "\n",
    "    return out"
   ],
   "metadata": {
    "collapsed": false,
    "pycharm": {
     "name": "#%%\n",
     "is_executing": false
    }
   }
  },
  {
   "cell_type": "code",
   "execution_count": 34,
   "outputs": [
    {
     "name": "stdout",
     "text": [
      "Data at path=../AirMSPI/21views/AirMSPI_ER2_GRP_ELLIPSOID_20130203_215430Z_CA-Nicasio_646F_F01_V005.hdf has invalid region of interest\n",
      "Data at path=../AirMSPI/21views/AirMSPI_ER2_GRP_ELLIPSOID_20130203_215455Z_CA-Nicasio_615F_F01_V005.hdf has invalid region of interest\n",
      "Data at path=../AirMSPI/21views/AirMSPI_ER2_GRP_ELLIPSOID_20130203_215518Z_CA-Nicasio_580F_F01_V005.hdf has invalid region of interest\n",
      "Data at path=../AirMSPI/21views/AirMSPI_ER2_GRP_ELLIPSOID_20130203_215539Z_CA-Nicasio_541F_F01_V005.hdf has invalid region of interest\n",
      "Data at path=../AirMSPI/21views/AirMSPI_ER2_GRP_ELLIPSOID_20130203_215712Z_CA-Nicasio_212F_F01_V005.hdf has invalid region of interest\n",
      "Data at path=../AirMSPI/21views/AirMSPI_ER2_GRP_ELLIPSOID_20130203_215730Z_CA-Nicasio_110F_F01_V005.hdf has invalid region of interest\n",
      "Data at path=../AirMSPI/21views/AirMSPI_ER2_GRP_ELLIPSOID_20130203_215748Z_CA-Nicasio_000N_F01_V005.hdf has invalid region of interest\n",
      "Data at path=../AirMSPI/21views/AirMSPI_ER2_GRP_ELLIPSOID_20130203_215806Z_CA-Nicasio_110A_F01_V005.hdf has invalid region of interest\n",
      "Data at path=../AirMSPI/21views/AirMSPI_ER2_GRP_ELLIPSOID_20130203_215824Z_CA-Nicasio_212A_F01_V005.hdf has invalid region of interest\n",
      "Data at path=../AirMSPI/21views/AirMSPI_ER2_GRP_ELLIPSOID_20130203_215842Z_CA-Nicasio_301A_F01_V005.hdf has invalid region of interest\n",
      "Data at path=../AirMSPI/21views/AirMSPI_ER2_GRP_ELLIPSOID_20130203_215900Z_CA-Nicasio_377A_F01_V005.hdf has invalid region of interest\n",
      "Data at path=../AirMSPI/21views/AirMSPI_ER2_GRP_ELLIPSOID_20130203_215918Z_CA-Nicasio_441A_F01_V005.hdf has invalid region of interest\n"
     ],
     "output_type": "stream"
    }
   ],
   "source": [
    "\"\"\"\n",
    "Set settings\n",
    "\"\"\"\n",
    "#355, 380, 445, 470, 555, 660, 865, 935\n",
    "wavelengths = [0.660]\n",
    "vel_cloud = np.array([0.0,0.0,0.0]) # m/s\n",
    "vel_camera = 220 # m/s\n",
    "# A fly over from West to East (positive y-axis direction)\n",
    "camera_zenith_list = [65, 62, 58, 54, 50, 44, 38, 30, 21, 11, 0, 11, 21, 30, 38, 44, 50, 54, 58,62, 65]\n",
    "camera_azimuth_list = [-90, -90, -90, -90, -90, -90, -90, -90, -90, -90, 0, 90, 90, 90, 90, 90, 90, 90, 90, 90, 90]\n",
    "num_of_viewed_medium = len(camera_zenith_list)\n",
    "\n",
    "projection_type = 'perspective'\n",
    "# projection_type = 'orthographic'\n",
    "\n",
    "# input_cloud = 'rico52x57x26'\n",
    "# input_cloud = 'rico32x37x26'\n",
    "input_cloud = 'BOMEX2'\n",
    "\n",
    "if len(wavelengths) > 1:\n",
    "    type = 'polychromatic'\n",
    "else:\n",
    "    type = 'monochromatic'\n",
    "\n",
    "\n",
    "output_dir = 'cvpr/{}_dt_airmspi_single_platform_wl_{}_images_{}_projection_{}/dynamic_medium_{}'.format(input_cloud, np.array_str(np.array(wavelengths)).replace(\" \", \",\"),\n",
    "                                                                                   num_of_viewed_medium, projection_type,type)\n",
    "\n",
    "# sun\n",
    "sun_azimuth_list=np.linspace(25,25+0.1*num_of_viewed_medium,num_of_viewed_medium)\n",
    "sun_zenith_list=np.linspace(121.07,121.07-0.035*(num_of_viewed_medium-1),num_of_viewed_medium)\n",
    "\n",
    "# solver\n",
    "iter = 100\n",
    "\n",
    "\n",
    "# Set data directory\n",
    "# data_dir = '../AirMSPI/AirMSPI_ER2_GRP_ELLIPSOID_20130206_Pacific-32N123W'\n",
    "data_dir = '../AirMSPI/21views'\n",
    "\n",
    "format_ = '*.hdf'  # load\n",
    "paths = sorted(glob.glob(data_dir + '/' + format_))\n",
    "# roi = [[1088, 1408, 600, 1000], [1156, 1480, 640, 1000], [1216, 1556, 696, 1100], [1280, 1620, 732, 1100], [1340, 1684, 792, 1200], [1404, 1744, 828, 1200], [1460, 1812, 950, 1300], [1528, 1884, 1000, 1400], [1492, 1852, 1100, 1650]]\n",
    "import scipy.io as sio\n",
    "# roi=(shdom.AirMSPIMeasurements().select_region_of_interest(data_dir,0))\n",
    "roi = [[1164, 1460, 1400, 1800]]*21\n",
    "wavelengths = [660]#355, 380, 445, 470, 555, 660, 865, 935\n",
    "airmspi_measurements = shdom.AirMSPIDynamicMeasurements()\n",
    "airmspi_measurements.load_from_hdf(data_dir,region_of_interest=roi,valid_wavelength=wavelengths)\n",
    "projections = airmspi_measurements._projections\n",
    "wavelengths = [0.660]\n",
    "# sun\n",
    "sun_azimuth_list=airmspi_measurements.sun_azimuth_list\n",
    "sun_zenith_list=airmspi_measurements.sun_zenith_list\n",
    "time_list = airmspi_measurements.time_list"
   ],
   "metadata": {
    "collapsed": false,
    "pycharm": {
     "name": "#%%\n",
     "is_executing": false
    }
   }
  },
  {
   "cell_type": "code",
   "execution_count": 35,
   "outputs": [],
   "source": [
    "for pro in projections.projection_list:\n",
    "    pro._x += 1.5\n",
    "    pro._y += 0\n",
    "dynamic_projection = shdom.DynamicProjection(projection_split(projections, num_of_viewed_medium))"
   ],
   "metadata": {
    "collapsed": false,
    "pycharm": {
     "name": "#%%\n",
     "is_executing": false
    }
   }
  },
  {
   "cell_type": "code",
   "execution_count": 36,
   "outputs": [],
   "source": [
    "# Mie scattering for water droplets\n",
    "mie_table_paths = [\n",
    "    '../mie_tables/polydisperse/Water_{}nm.scat'.format(shdom.int_round(wavelength)) \n",
    "    for wavelength in wavelengths\n",
    "]\n",
    "\n",
    "solar_spectrum = shdom.SolarSpectrum('../ancillary_data/SpectralSolar_MODWehrli_1985_WMO.npz')\n",
    "solar_fluxes = solar_spectrum.get_monochrome_solar_flux(wavelengths)"
   ],
   "metadata": {
    "collapsed": false,
    "pycharm": {
     "name": "#%%\n",
     "is_executing": false
    }
   }
  },
  {
   "cell_type": "code",
   "execution_count": 37,
   "outputs": [],
   "source": [
    "# Load a Microphysical scatterer\n",
    "droplets = shdom.MicrophysicalScatterer()\n",
    "if input_cloud == 'BOMEX2':\n",
    "    camera_height = 20 #km\n",
    "    assert np.any(vel_cloud==np.array([0.0,0.0,0.0]))\n",
    "    data_dir = '../synthetic_cloud_fields/WIZ_Clouds/BOMEX2'\n",
    "    format_ = '*.txt'# load \n",
    "    volumes_paths = sorted(glob.glob(data_dir + '/'+format_))\n",
    "    droplets.load_from_csv(volumes_paths[100])\n",
    "    grid = shdom.Grid(x=droplets.grid.x[357:400],y=droplets.grid.y[340:370],z=np.linspace(0,1.5,45))\n",
    "    droplets.resample(grid)\n"
   ],
   "metadata": {
    "collapsed": false,
    "pycharm": {
     "name": "#%%\n",
     "is_executing": false
    }
   }
  },
  {
   "cell_type": "code",
   "execution_count": 38,
   "outputs": [],
   "source": [
    "# com_x, com_y, com_z = calccenterofmass(droplets=droplets)\n",
    "# com = np.array([com_x, com_y, com_z])\n",
    "# \n",
    "# L_list = (np.sign(camera_azimuth_list)) * (camera_height - com_z) * np.tan(np.deg2rad(camera_zenith_list) )\n",
    "# \n",
    "# # time_list = np.array(L_list *1e3 / vel_camera)\n",
    "time_list -= time_list.min()\n",
    "time_list = np.round(time_list/5)*5\n",
    "# time_list = np.linspace(0,20*10,21)\n",
    "# \n",
    "# #sec\n",
    "# camera_position_list = np.zeros([L_list.shape[0],3])\n",
    "\n",
    "# move the camera instead of the cloud\n",
    "# camera_position_list[:, 0] = com_x\n",
    "# camera_position_list[:, 1] = com_y + np.asarray(L_list)\n",
    "# camera_position_list[:, 2] = camera_height"
   ],
   "metadata": {
    "collapsed": false,
    "pycharm": {
     "name": "#%%\n",
     "is_executing": false
    }
   }
  },
  {
   "cell_type": "code",
   "execution_count": 39,
   "outputs": [],
   "source": [
    "# Load a Microphysical scatterer\n",
    "droplets = shdom.MicrophysicalScatterer()\n",
    "indeces = time_list/5\n",
    "if input_cloud=='BOMEX2':\n",
    "    camera_height = 20 #km\n",
    "    data_dir = '../synthetic_cloud_fields/WIZ_Clouds/BOMEX2'\n",
    "    format_ = '*.txt'# load \n",
    "    volumes_paths = sorted(glob.glob(data_dir + '/'+format_))\n",
    "    # volumes_paths = [volumes_paths[int(100+i)] for i in indeces]\n",
    "    volumes_paths = [volumes_paths[int(65+i)] for i in indeces]\n",
    "    # volumes_paths = volumes_paths[-1-num_of_viewed_medium:-1]\n",
    "    # volumes_paths = [volumes_paths[-1]]*num_of_viewed_medium\n",
    "    droplets.load_from_csv(volumes_paths[0])\n"
   ],
   "metadata": {
    "collapsed": false,
    "pycharm": {
     "name": "#%%\n",
     "is_executing": false
    }
   }
  },
  {
   "cell_type": "code",
   "execution_count": 40,
   "outputs": [],
   "source": [
    "df = pd.read_csv('../ancillary_data/AFGL_summer_mid_lat.txt', comment='#', sep=' ')\n",
    "temperatures = df['Temperature(k)'].to_numpy(dtype=np.float32)\n",
    "altitudes = df['Altitude(km)'].to_numpy(dtype=np.float32)\n",
    "temperature_profile = shdom.GridData(shdom.Grid(z=altitudes), temperatures)\n",
    "air_grid = shdom.Grid(z=np.linspace(0, 20, 20))\n"
   ],
   "metadata": {
    "collapsed": false,
    "pycharm": {
     "name": "#%% Rayleigh scattering for air molecules up to 20 km\n",
     "is_executing": false
    }
   }
  },
  {
   "cell_type": "code",
   "execution_count": 41,
   "outputs": [
    {
     "name": "stdout",
     "text": [
      "Reading mie table from file: ../mie_tables/polydisperse/Water_660nm.scat\n"
     ],
     "output_type": "stream"
    }
   ],
   "source": [
    "air = shdom.MultispectralScatterer()\n",
    "mie_list = []\n",
    "for wavelength, table_path in zip(wavelengths, mie_table_paths):  \n",
    "        # Molecular Rayleigh scattering\n",
    "        rayleigh = shdom.Rayleigh(wavelength)\n",
    "        rayleigh.set_profile(temperature_profile.resample(air_grid))\n",
    "        air.add_scatterer(rayleigh.get_scatterer())\n",
    "        mie = shdom.MiePolydisperse()\n",
    "        mie.read_table(table_path)\n",
    "        mie_list.append(mie)"
   ],
   "metadata": {
    "collapsed": false,
    "pycharm": {
     "name": "#%%\n",
     "is_executing": false
    }
   }
  },
  {
   "cell_type": "code",
   "execution_count": 42,
   "outputs": [
    {
     "name": "stdout",
     "text": [
      "Minimum medium effective radius [0.15] is smaller than the pre-computed table minimum radius [1.00]. Recompute Mie table with smaller minimum radius. Setting exceptioned values to pre-computed minimal value\n",
      "Minimum medium effective variance [0.00] is smaller than the pre-computed table minimum variance [0.02]. Recompute Mie table with smaller minimum variance. Setting exceptioned values to pre-computed minimal value\n",
      "Minimum medium effective radius [0.12] is smaller than the pre-computed table minimum radius [1.00]. Recompute Mie table with smaller minimum radius. Setting exceptioned values to pre-computed minimal value\n",
      "Minimum medium effective variance [0.00] is smaller than the pre-computed table minimum variance [0.02]. Recompute Mie table with smaller minimum variance. Setting exceptioned values to pre-computed minimal value\n",
      "Minimum medium effective radius [0.11] is smaller than the pre-computed table minimum radius [1.00]. Recompute Mie table with smaller minimum radius. Setting exceptioned values to pre-computed minimal value\n",
      "Minimum medium effective variance [0.00] is smaller than the pre-computed table minimum variance [0.02]. Recompute Mie table with smaller minimum variance. Setting exceptioned values to pre-computed minimal value\n",
      "Minimum medium effective radius [0.12] is smaller than the pre-computed table minimum radius [1.00]. Recompute Mie table with smaller minimum radius. Setting exceptioned values to pre-computed minimal value\n",
      "Minimum medium effective variance [0.00] is smaller than the pre-computed table minimum variance [0.02]. Recompute Mie table with smaller minimum variance. Setting exceptioned values to pre-computed minimal value\n",
      "Minimum medium effective radius [0.11] is smaller than the pre-computed table minimum radius [1.00]. Recompute Mie table with smaller minimum radius. Setting exceptioned values to pre-computed minimal value\n",
      "Minimum medium effective variance [0.00] is smaller than the pre-computed table minimum variance [0.02]. Recompute Mie table with smaller minimum variance. Setting exceptioned values to pre-computed minimal value\n",
      "Minimum medium effective radius [0.12] is smaller than the pre-computed table minimum radius [1.00]. Recompute Mie table with smaller minimum radius. Setting exceptioned values to pre-computed minimal value\n",
      "Minimum medium effective variance [0.00] is smaller than the pre-computed table minimum variance [0.02]. Recompute Mie table with smaller minimum variance. Setting exceptioned values to pre-computed minimal value\n",
      "Minimum medium effective radius [0.12] is smaller than the pre-computed table minimum radius [1.00]. Recompute Mie table with smaller minimum radius. Setting exceptioned values to pre-computed minimal value\n",
      "Minimum medium effective variance [0.00] is smaller than the pre-computed table minimum variance [0.02]. Recompute Mie table with smaller minimum variance. Setting exceptioned values to pre-computed minimal value\n",
      "Minimum medium effective radius [0.12] is smaller than the pre-computed table minimum radius [1.00]. Recompute Mie table with smaller minimum radius. Setting exceptioned values to pre-computed minimal value\n",
      "Minimum medium effective variance [0.00] is smaller than the pre-computed table minimum variance [0.02]. Recompute Mie table with smaller minimum variance. Setting exceptioned values to pre-computed minimal value\n",
      "Minimum medium effective radius [0.11] is smaller than the pre-computed table minimum radius [1.00]. Recompute Mie table with smaller minimum radius. Setting exceptioned values to pre-computed minimal value\n",
      "Minimum medium effective variance [0.00] is smaller than the pre-computed table minimum variance [0.02]. Recompute Mie table with smaller minimum variance. Setting exceptioned values to pre-computed minimal value\n",
      "Minimum medium effective radius [0.11] is smaller than the pre-computed table minimum radius [1.00]. Recompute Mie table with smaller minimum radius. Setting exceptioned values to pre-computed minimal value\n",
      "Minimum medium effective variance [0.00] is smaller than the pre-computed table minimum variance [0.02]. Recompute Mie table with smaller minimum variance. Setting exceptioned values to pre-computed minimal value\n",
      "Minimum medium effective radius [0.11] is smaller than the pre-computed table minimum radius [1.00]. Recompute Mie table with smaller minimum radius. Setting exceptioned values to pre-computed minimal value\n",
      "Minimum medium effective variance [0.00] is smaller than the pre-computed table minimum variance [0.02]. Recompute Mie table with smaller minimum variance. Setting exceptioned values to pre-computed minimal value\n",
      "Minimum medium effective radius [0.11] is smaller than the pre-computed table minimum radius [1.00]. Recompute Mie table with smaller minimum radius. Setting exceptioned values to pre-computed minimal value\n",
      "Minimum medium effective variance [0.00] is smaller than the pre-computed table minimum variance [0.02]. Recompute Mie table with smaller minimum variance. Setting exceptioned values to pre-computed minimal value\n",
      "Minimum medium effective radius [0.11] is smaller than the pre-computed table minimum radius [1.00]. Recompute Mie table with smaller minimum radius. Setting exceptioned values to pre-computed minimal value\n",
      "Minimum medium effective variance [0.00] is smaller than the pre-computed table minimum variance [0.02]. Recompute Mie table with smaller minimum variance. Setting exceptioned values to pre-computed minimal value\n",
      "Minimum medium effective radius [0.11] is smaller than the pre-computed table minimum radius [1.00]. Recompute Mie table with smaller minimum radius. Setting exceptioned values to pre-computed minimal value\n",
      "Minimum medium effective variance [0.00] is smaller than the pre-computed table minimum variance [0.02]. Recompute Mie table with smaller minimum variance. Setting exceptioned values to pre-computed minimal value\n",
      "Minimum medium effective radius [0.12] is smaller than the pre-computed table minimum radius [1.00]. Recompute Mie table with smaller minimum radius. Setting exceptioned values to pre-computed minimal value\n",
      "Minimum medium effective variance [0.00] is smaller than the pre-computed table minimum variance [0.02]. Recompute Mie table with smaller minimum variance. Setting exceptioned values to pre-computed minimal value\n",
      "Minimum medium effective radius [0.11] is smaller than the pre-computed table minimum radius [1.00]. Recompute Mie table with smaller minimum radius. Setting exceptioned values to pre-computed minimal value\n",
      "Minimum medium effective variance [0.00] is smaller than the pre-computed table minimum variance [0.02]. Recompute Mie table with smaller minimum variance. Setting exceptioned values to pre-computed minimal value\n",
      "Minimum medium effective radius [0.12] is smaller than the pre-computed table minimum radius [1.00]. Recompute Mie table with smaller minimum radius. Setting exceptioned values to pre-computed minimal value\n",
      "Minimum medium effective variance [0.00] is smaller than the pre-computed table minimum variance [0.02]. Recompute Mie table with smaller minimum variance. Setting exceptioned values to pre-computed minimal value\n",
      "Minimum medium effective radius [0.12] is smaller than the pre-computed table minimum radius [1.00]. Recompute Mie table with smaller minimum radius. Setting exceptioned values to pre-computed minimal value\n",
      "Minimum medium effective variance [0.00] is smaller than the pre-computed table minimum variance [0.02]. Recompute Mie table with smaller minimum variance. Setting exceptioned values to pre-computed minimal value\n",
      "Minimum medium effective radius [0.11] is smaller than the pre-computed table minimum radius [1.00]. Recompute Mie table with smaller minimum radius. Setting exceptioned values to pre-computed minimal value\n",
      "Minimum medium effective variance [0.00] is smaller than the pre-computed table minimum variance [0.02]. Recompute Mie table with smaller minimum variance. Setting exceptioned values to pre-computed minimal value\n",
      "Minimum medium effective radius [0.12] is smaller than the pre-computed table minimum radius [1.00]. Recompute Mie table with smaller minimum radius. Setting exceptioned values to pre-computed minimal value\n",
      "Minimum medium effective variance [0.00] is smaller than the pre-computed table minimum variance [0.02]. Recompute Mie table with smaller minimum variance. Setting exceptioned values to pre-computed minimal value\n",
      "Minimum medium effective radius [0.13] is smaller than the pre-computed table minimum radius [1.00]. Recompute Mie table with smaller minimum radius. Setting exceptioned values to pre-computed minimal value\n",
      "Minimum medium effective variance [0.00] is smaller than the pre-computed table minimum variance [0.02]. Recompute Mie table with smaller minimum variance. Setting exceptioned values to pre-computed minimal value\n"
     ],
     "output_type": "stream"
    }
   ],
   "source": [
    "temporary_scatterer_list = []\n",
    "time_list = []\n",
    "for volumes_path in volumes_paths:\n",
    "    s = volumes_path\n",
    "    time = int(s[s.rfind('_')+1:s.rfind('.txt')])/2\n",
    "    time_list.append(time)\n",
    "    droplets = shdom.MicrophysicalScatterer()\n",
    "    droplets.load_from_csv(volumes_path)\n",
    "    for mie in mie_list:  \n",
    "        droplets.add_mie(mie)\n",
    "    droplets.resample(grid)\n",
    "\n",
    "    # pad with zeros\n",
    "    for data in [droplets.lwc.data, droplets.reff.data, droplets.veff.data]:\n",
    "        data[0,:,:] = 0\n",
    "        data[:,0,:] = 0\n",
    "        data[:,:,0] = 0\n",
    "        data[-1,:,:] = 0\n",
    "        data[:,-1,:] = 0\n",
    "        data[:,:,-1] = 0\n",
    "        \n",
    "    temporary_scatterer_list.append(shdom.TemporaryScatterer(droplets,time)) \n",
    "# time_list = np.mean(np.split(np.array(time_list),num_of_viewed_medium),1)       \n"
   ],
   "metadata": {
    "collapsed": false,
    "pycharm": {
     "name": "#%%\n",
     "is_executing": false
    }
   }
  },
  {
   "cell_type": "code",
   "execution_count": 43,
   "outputs": [],
   "source": [
    "dynamic_scatterer = shdom.DynamicScatterer()\n",
    "dynamic_scatterer.add_temporary_scatterer(temporary_scatterer_list)\n",
    "\n",
    "dynamic_medium = shdom.DynamicMedium(dynamic_scatterer,air=air)"
   ],
   "metadata": {
    "collapsed": false,
    "pycharm": {
     "name": "#%%\n",
     "is_executing": false
    }
   }
  },
  {
   "cell_type": "code",
   "execution_count": 44,
   "outputs": [],
   "source": [
    "scene_params_list = []\n",
    "numerical_params_list =[]\n",
    "for sun_azimuth, sun_zenith in zip(sun_azimuth_list, sun_zenith_list):\n",
    "    scene_params=[]\n",
    "    numerical_params=[]\n",
    "    for wavelength, solar_flux in zip(wavelengths, solar_fluxes):\n",
    "        scene_params.append( shdom.SceneParameters(\n",
    "            wavelength=wavelength,\n",
    "            source=shdom.SolarSource(azimuth=sun_azimuth, zenith=sun_zenith, flux=solar_flux)\n",
    "        ))\n",
    "        numerical_params.append(shdom.NumericalParameters(num_mu_bins=8,num_phi_bins=16))\n",
    "    scene_params_list.append(scene_params)\n",
    "    numerical_params_list.append(numerical_params)"
   ],
   "metadata": {
    "collapsed": false,
    "pycharm": {
     "name": "#%%\n",
     "is_executing": false
    }
   }
  },
  {
   "cell_type": "code",
   "execution_count": 45,
   "outputs": [],
   "source": [
    "dynamic_solver = shdom.DynamicRteSolver(scene_params=scene_params_list,numerical_params=numerical_params_list)\n",
    "dynamic_solver.set_dynamic_medium(dynamic_medium)\n",
    "dynamic_solver.solve(maxiter=iter,verbose=True)"
   ],
   "metadata": {
    "collapsed": false,
    "pycharm": {
     "name": "#%%\n",
     "is_executing": false
    }
   }
  },
  {
   "cell_type": "code",
   "execution_count": 46,
   "outputs": [],
   "source": [
    "# projections = shdom.MultiViewProjection()\n",
    "# \n",
    "# for camera_azimuth,camera_zenith,camera_position in zip(camera_azimuth_list,camera_zenith_list,camera_position_list):\n",
    "#      \n",
    "#     if projection_type == 'perspective':\n",
    "#          projection = (\n",
    "#                 shdom.PerspectiveProjection(fov=2, \n",
    "#                 nx=200, ny=200, x=camera_position[0], y=camera_position[1],\n",
    "#                 z=camera_position[2])\n",
    "#             )  \n",
    "#          projection.look_at_transform(point=com, up=[0.0, 0.0, 1.0])\n",
    "#          projections.add_projection(projection)\n",
    "#     elif projection_type == 'pushbroom':\n",
    "#         projection = (\n",
    "#                 # shdom.PushBroomProjection(fov=30,x_resolution=0.01,y_resolution=0.01,\n",
    "#                 #                           x=camera_position[0], y=camera_position[1], z=camera_position[2],\n",
    "#                 #                           zenith=camera_zenith)\n",
    "#                 shdom.PushBroomProjection(fov=30, nx=200, ny=200, x=camera_position[0], \n",
    "#                                           y=camera_position[1],\n",
    "#                 z=camera_position[2],bounding_box=droplets.bounding_box)\n",
    "#             )  \n",
    "#         projection.look_at_transform(point=com, up=[0.0, 0.0, 1.0])\n",
    "#         projections.add_projection(projection)\n",
    "#     else:\n",
    "#         projections.add_projection(\n",
    "#             shdom.OrthographicProjection(droplets.bounding_box,x_resolution=0.01,\n",
    "#                                          y_resolution=0.01,azimuth=camera_zenith,zenith=camera_zenith))\n",
    "# \n",
    "# dynamic_projection = shdom.DynamicProjection(projection_split(projections, num_of_viewed_medium))\n"
   ],
   "metadata": {
    "collapsed": false,
    "pycharm": {
     "name": "#%%\n",
     "is_executing": false
    }
   }
  },
  {
   "cell_type": "code",
   "execution_count": 47,
   "outputs": [],
   "source": [
    "dynamic_camera = shdom.DynamicCamera(shdom.RadianceSensor(), dynamic_projection)\n",
    "images = dynamic_camera.render(dynamic_solver,n_jobs=72)"
   ],
   "metadata": {
    "collapsed": false,
    "pycharm": {
     "name": "#%%\n",
     "is_executing": false
    }
   }
  },
  {
   "cell_type": "code",
   "execution_count": 48,
   "outputs": [],
   "source": [
    "images_cropped =[]\n",
    "new_projs = []\n",
    "for im, proj in zip(images, projections.projection_list):\n",
    "    indeces = np.unravel_index(np.argmax(np.array(im), axis=None), np.array(im).shape)\n",
    "    [m,n]=np.shape(im)\n",
    "    min_x = np.max([indeces[0]-50,0])\n",
    "    min_y = np.max([indeces[1]-50,0])\n",
    "    max_x = np.min([indeces[0]+55,m])\n",
    "    max_y = np.min([indeces[1]+55,n])\n",
    "    im_cropped = im[min_x:max_x,min_y:max_y]\n",
    "    images_cropped.append(im_cropped)\n",
    "    mask = np.zeros(im.shape, dtype=np.bool)\n",
    "    mask[min_x:max_x,min_y:max_y]=True\n",
    "    new_proj = proj[mask.ravel(order='F')]\n",
    "    new_proj._resolution = im_cropped.shape\n",
    "    new_projs.append(new_proj)\n",
    "        \n",
    "new_projs=shdom.MultiViewProjection(new_projs)\n",
    "dynamic_projection = shdom.DynamicProjection(projection_split(new_projs, num_of_viewed_medium))\n",
    "dynamic_camera = shdom.DynamicCamera(shdom.RadianceSensor(), dynamic_projection)"
   ],
   "metadata": {
    "collapsed": false,
    "pycharm": {
     "name": "#%%\n",
     "is_executing": false
    }
   }
  },
  {
   "cell_type": "code",
   "execution_count": 49,
   "outputs": [],
   "source": [
    "measurements = shdom.DynamicMeasurements(camera=dynamic_camera, images=images_cropped, wavelength=wavelengths,time_list=time_list)\n",
    "measurements.set_noise(shdom.AirMSPINoise())"
   ],
   "metadata": {
    "collapsed": false,
    "pycharm": {
     "name": "#%%\n",
     "is_executing": false
    }
   }
  },
  {
   "cell_type": "code",
   "execution_count": 50,
   "outputs": [],
   "source": [
    "shdom.save_dynamic_forward_model(output_dir, dynamic_medium, dynamic_solver, measurements)"
   ],
   "metadata": {
    "collapsed": false,
    "pycharm": {
     "name": "#%% save\n",
     "is_executing": false
    }
   }
  },
  {
   "cell_type": "code",
   "execution_count": 51,
   "outputs": [
    {
     "data": {
      "text/plain": "<Figure size 1440x1440 with 21 Axes>",
      "image/png": "[encoded data removed]"
     },
     "metadata": {
      "needs_background": "light"
     },
     "output_type": "display_data"
    }
   ],
   "source": [
    "%matplotlib inline\n",
    "f, axarr = plt.subplots(1, len(images), figsize=(20, 20))\n",
    "if isinstance(axarr,plt.Axes):\n",
    "    axarr = [axarr]\n",
    "for ax, image in zip(axarr, images_cropped):\n",
    "    if len(image.shape)>2 and image.shape[2]==2:\n",
    "        image = np.concatenate((np.reshape(image[:,:,0],(image.shape[0],image.shape[1],1)),image),2)\n",
    "    elif len(image.shape)>2 and image.shape[2]>3:\n",
    "        image = image[:,:,0:2]\n",
    "    ax.imshow(image/image.max())\n"
   ],
   "metadata": {
    "collapsed": false,
    "pycharm": {
     "name": "#%%\n",
     "is_executing": false
    }
   }
  },
  {
   "cell_type": "code",
   "execution_count": 52,
   "outputs": [
    {
     "data": {
      "text/plain": "<matplotlib.colorbar.Colorbar at 0x7f0ba636a350>"
     },
     "metadata": {},
     "output_type": "execute_result",
     "execution_count": 52
    },
    {
     "data": {
      "text/plain": "<Figure size 432x288 with 2 Axes>",
      "image/png": "[encoded data removed]"
     },
     "metadata": {
      "needs_background": "light"
     },
     "output_type": "display_data"
    }
   ],
   "source": [
    "plt.imshow(images_cropped[1])\n",
    "plt.colorbar()\n",
    "# # %matplotlib inline\n",
    "# fig = plt.figure()\n",
    "# ax = fig.add_subplot(111, projection='3d')\n",
    "# ax.view_init()\n",
    "# x_min = projections.x.min()\n",
    "# x_max = projections.x.max()\n",
    "# y_min = projections.y.min()\n",
    "# y_max = projections.y.max()\n",
    "# projections.projection_list[3].plot(ax,[1, 3],[y_min, 0],[0, 20],20)"
   ],
   "metadata": {
    "collapsed": false,
    "pycharm": {
     "name": "#%%\n",
     "is_executing": false
    }
   }
  },
  {
   "cell_type": "code",
   "execution_count": null,
   "outputs": [],
   "source": [
    "a,b,c = shdom.load_dynamic_forward_model(output_dir)\n",
    "print()\n",
    "  "
   ],
   "metadata": {
    "collapsed": false,
    "pycharm": {
     "name": "#%% test load\n",
     "is_executing": true
    }
   }
  },
  {
   "cell_type": "code",
   "execution_count": null,
   "outputs": [],
   "source": [
    "# camera_zenith_list = [70.5, 60, 45.6, 26.1, 0, 26.1, 45.6, 60, 70.5]\n",
    "# np.cos(np.deg2rad(camera_zenith_list))**2"
   ],
   "metadata": {
    "collapsed": false,
    "pycharm": {
     "name": "#%%\n",
     "is_executing": true
    }
   }
  }
 ],
 "metadata": {
  "kernelspec": {
   "display_name": "Python 3",
   "language": "python",
   "name": "python3"
  },
  "language_info": {
   "codemirror_mode": {
    "name": "ipython",
    "version": 2
   },
   "file_extension": ".py",
   "mimetype": "text/x-python",
   "name": "python",
   "nbconvert_exporter": "python",
   "pygments_lexer": "ipython2",
   "version": "2.7.6"
  },
  "pycharm": {
   "stem_cell": {
    "cell_type": "raw",
    "source": [],
    "metadata": {
     "collapsed": false
    }
   }
  }
 },
 "nbformat": 4,
 "nbformat_minor": 0
}